{
 "cells": [
  {
   "cell_type": "markdown",
   "metadata": {},
   "source": [
    "## Predicting Survival on the Titanic using Logistic Regression\n",
    "\n",
    "### Data Prep"
   ]
  },
  {
   "cell_type": "code",
   "execution_count": 288,
   "metadata": {
    "collapsed": false
   },
   "outputs": [
    {
     "name": "stdout",
     "output_type": "stream",
     "text": [
      "Populating the interactive namespace from numpy and matplotlib\n"
     ]
    }
   ],
   "source": [
    "import pandas as pd\n",
    "%pylab inline"
   ]
  },
  {
   "cell_type": "code",
   "execution_count": 289,
   "metadata": {
    "collapsed": true
   },
   "outputs": [],
   "source": [
    "#reading the data from the disk into memory\n",
    "df = pd.read_csv(\"train.csv\")"
   ]
  },
  {
   "cell_type": "code",
   "execution_count": 290,
   "metadata": {
    "collapsed": false
   },
   "outputs": [
    {
     "data": {
      "text/plain": [
       "Index(['PassengerId', 'Survived', 'Pclass', 'Name', 'Sex', 'Age', 'SibSp',\n",
       "       'Parch', 'Ticket', 'Fare', 'Cabin', 'Embarked'],\n",
       "      dtype='object')"
      ]
     },
     "execution_count": 290,
     "metadata": {},
     "output_type": "execute_result"
    }
   ],
   "source": [
    "df.columns"
   ]
  },
  {
   "cell_type": "code",
   "execution_count": 291,
   "metadata": {
    "collapsed": false
   },
   "outputs": [
    {
     "data": {
      "text/plain": [
       "<bound method NDFrame.describe of      PassengerId  Survived  Pclass  \\\n",
       "0              1         0       3   \n",
       "1              2         1       1   \n",
       "2              3         1       3   \n",
       "3              4         1       1   \n",
       "4              5         0       3   \n",
       "5              6         0       3   \n",
       "6              7         0       1   \n",
       "7              8         0       3   \n",
       "8              9         1       3   \n",
       "9             10         1       2   \n",
       "10            11         1       3   \n",
       "11            12         1       1   \n",
       "12            13         0       3   \n",
       "13            14         0       3   \n",
       "14            15         0       3   \n",
       "15            16         1       2   \n",
       "16            17         0       3   \n",
       "17            18         1       2   \n",
       "18            19         0       3   \n",
       "19            20         1       3   \n",
       "20            21         0       2   \n",
       "21            22         1       2   \n",
       "22            23         1       3   \n",
       "23            24         1       1   \n",
       "24            25         0       3   \n",
       "25            26         1       3   \n",
       "26            27         0       3   \n",
       "27            28         0       1   \n",
       "28            29         1       3   \n",
       "29            30         0       3   \n",
       "..           ...       ...     ...   \n",
       "861          862         0       2   \n",
       "862          863         1       1   \n",
       "863          864         0       3   \n",
       "864          865         0       2   \n",
       "865          866         1       2   \n",
       "866          867         1       2   \n",
       "867          868         0       1   \n",
       "868          869         0       3   \n",
       "869          870         1       3   \n",
       "870          871         0       3   \n",
       "871          872         1       1   \n",
       "872          873         0       1   \n",
       "873          874         0       3   \n",
       "874          875         1       2   \n",
       "875          876         1       3   \n",
       "876          877         0       3   \n",
       "877          878         0       3   \n",
       "878          879         0       3   \n",
       "879          880         1       1   \n",
       "880          881         1       2   \n",
       "881          882         0       3   \n",
       "882          883         0       3   \n",
       "883          884         0       2   \n",
       "884          885         0       3   \n",
       "885          886         0       3   \n",
       "886          887         0       2   \n",
       "887          888         1       1   \n",
       "888          889         0       3   \n",
       "889          890         1       1   \n",
       "890          891         0       3   \n",
       "\n",
       "                                                  Name     Sex   Age  SibSp  \\\n",
       "0                              Braund, Mr. Owen Harris    male  22.0      1   \n",
       "1    Cumings, Mrs. John Bradley (Florence Briggs Th...  female  38.0      1   \n",
       "2                               Heikkinen, Miss. Laina  female  26.0      0   \n",
       "3         Futrelle, Mrs. Jacques Heath (Lily May Peel)  female  35.0      1   \n",
       "4                             Allen, Mr. William Henry    male  35.0      0   \n",
       "5                                     Moran, Mr. James    male   NaN      0   \n",
       "6                              McCarthy, Mr. Timothy J    male  54.0      0   \n",
       "7                       Palsson, Master. Gosta Leonard    male   2.0      3   \n",
       "8    Johnson, Mrs. Oscar W (Elisabeth Vilhelmina Berg)  female  27.0      0   \n",
       "9                  Nasser, Mrs. Nicholas (Adele Achem)  female  14.0      1   \n",
       "10                     Sandstrom, Miss. Marguerite Rut  female   4.0      1   \n",
       "11                            Bonnell, Miss. Elizabeth  female  58.0      0   \n",
       "12                      Saundercock, Mr. William Henry    male  20.0      0   \n",
       "13                         Andersson, Mr. Anders Johan    male  39.0      1   \n",
       "14                Vestrom, Miss. Hulda Amanda Adolfina  female  14.0      0   \n",
       "15                    Hewlett, Mrs. (Mary D Kingcome)   female  55.0      0   \n",
       "16                                Rice, Master. Eugene    male   2.0      4   \n",
       "17                        Williams, Mr. Charles Eugene    male   NaN      0   \n",
       "18   Vander Planke, Mrs. Julius (Emelia Maria Vande...  female  31.0      1   \n",
       "19                             Masselmani, Mrs. Fatima  female   NaN      0   \n",
       "20                                Fynney, Mr. Joseph J    male  35.0      0   \n",
       "21                               Beesley, Mr. Lawrence    male  34.0      0   \n",
       "22                         McGowan, Miss. Anna \"Annie\"  female  15.0      0   \n",
       "23                        Sloper, Mr. William Thompson    male  28.0      0   \n",
       "24                       Palsson, Miss. Torborg Danira  female   8.0      3   \n",
       "25   Asplund, Mrs. Carl Oscar (Selma Augusta Emilia...  female  38.0      1   \n",
       "26                             Emir, Mr. Farred Chehab    male   NaN      0   \n",
       "27                      Fortune, Mr. Charles Alexander    male  19.0      3   \n",
       "28                       O'Dwyer, Miss. Ellen \"Nellie\"  female   NaN      0   \n",
       "29                                 Todoroff, Mr. Lalio    male   NaN      0   \n",
       "..                                                 ...     ...   ...    ...   \n",
       "861                        Giles, Mr. Frederick Edward    male  21.0      1   \n",
       "862  Swift, Mrs. Frederick Joel (Margaret Welles Ba...  female  48.0      0   \n",
       "863                  Sage, Miss. Dorothy Edith \"Dolly\"  female   NaN      8   \n",
       "864                             Gill, Mr. John William    male  24.0      0   \n",
       "865                           Bystrom, Mrs. (Karolina)  female  42.0      0   \n",
       "866                       Duran y More, Miss. Asuncion  female  27.0      1   \n",
       "867               Roebling, Mr. Washington Augustus II    male  31.0      0   \n",
       "868                        van Melkebeke, Mr. Philemon    male   NaN      0   \n",
       "869                    Johnson, Master. Harold Theodor    male   4.0      1   \n",
       "870                                  Balkic, Mr. Cerin    male  26.0      0   \n",
       "871   Beckwith, Mrs. Richard Leonard (Sallie Monypeny)  female  47.0      1   \n",
       "872                           Carlsson, Mr. Frans Olof    male  33.0      0   \n",
       "873                        Vander Cruyssen, Mr. Victor    male  47.0      0   \n",
       "874              Abelson, Mrs. Samuel (Hannah Wizosky)  female  28.0      1   \n",
       "875                   Najib, Miss. Adele Kiamie \"Jane\"  female  15.0      0   \n",
       "876                      Gustafsson, Mr. Alfred Ossian    male  20.0      0   \n",
       "877                               Petroff, Mr. Nedelio    male  19.0      0   \n",
       "878                                 Laleff, Mr. Kristo    male   NaN      0   \n",
       "879      Potter, Mrs. Thomas Jr (Lily Alexenia Wilson)  female  56.0      0   \n",
       "880       Shelley, Mrs. William (Imanita Parrish Hall)  female  25.0      0   \n",
       "881                                 Markun, Mr. Johann    male  33.0      0   \n",
       "882                       Dahlberg, Miss. Gerda Ulrika  female  22.0      0   \n",
       "883                      Banfield, Mr. Frederick James    male  28.0      0   \n",
       "884                             Sutehall, Mr. Henry Jr    male  25.0      0   \n",
       "885               Rice, Mrs. William (Margaret Norton)  female  39.0      0   \n",
       "886                              Montvila, Rev. Juozas    male  27.0      0   \n",
       "887                       Graham, Miss. Margaret Edith  female  19.0      0   \n",
       "888           Johnston, Miss. Catherine Helen \"Carrie\"  female   NaN      1   \n",
       "889                              Behr, Mr. Karl Howell    male  26.0      0   \n",
       "890                                Dooley, Mr. Patrick    male  32.0      0   \n",
       "\n",
       "     Parch            Ticket      Fare        Cabin Embarked  \n",
       "0        0         A/5 21171    7.2500          NaN        S  \n",
       "1        0          PC 17599   71.2833          C85        C  \n",
       "2        0  STON/O2. 3101282    7.9250          NaN        S  \n",
       "3        0            113803   53.1000         C123        S  \n",
       "4        0            373450    8.0500          NaN        S  \n",
       "5        0            330877    8.4583          NaN        Q  \n",
       "6        0             17463   51.8625          E46        S  \n",
       "7        1            349909   21.0750          NaN        S  \n",
       "8        2            347742   11.1333          NaN        S  \n",
       "9        0            237736   30.0708          NaN        C  \n",
       "10       1           PP 9549   16.7000           G6        S  \n",
       "11       0            113783   26.5500         C103        S  \n",
       "12       0         A/5. 2151    8.0500          NaN        S  \n",
       "13       5            347082   31.2750          NaN        S  \n",
       "14       0            350406    7.8542          NaN        S  \n",
       "15       0            248706   16.0000          NaN        S  \n",
       "16       1            382652   29.1250          NaN        Q  \n",
       "17       0            244373   13.0000          NaN        S  \n",
       "18       0            345763   18.0000          NaN        S  \n",
       "19       0              2649    7.2250          NaN        C  \n",
       "20       0            239865   26.0000          NaN        S  \n",
       "21       0            248698   13.0000          D56        S  \n",
       "22       0            330923    8.0292          NaN        Q  \n",
       "23       0            113788   35.5000           A6        S  \n",
       "24       1            349909   21.0750          NaN        S  \n",
       "25       5            347077   31.3875          NaN        S  \n",
       "26       0              2631    7.2250          NaN        C  \n",
       "27       2             19950  263.0000  C23 C25 C27        S  \n",
       "28       0            330959    7.8792          NaN        Q  \n",
       "29       0            349216    7.8958          NaN        S  \n",
       "..     ...               ...       ...          ...      ...  \n",
       "861      0             28134   11.5000          NaN        S  \n",
       "862      0             17466   25.9292          D17        S  \n",
       "863      2          CA. 2343   69.5500          NaN        S  \n",
       "864      0            233866   13.0000          NaN        S  \n",
       "865      0            236852   13.0000          NaN        S  \n",
       "866      0     SC/PARIS 2149   13.8583          NaN        C  \n",
       "867      0          PC 17590   50.4958          A24        S  \n",
       "868      0            345777    9.5000          NaN        S  \n",
       "869      1            347742   11.1333          NaN        S  \n",
       "870      0            349248    7.8958          NaN        S  \n",
       "871      1             11751   52.5542          D35        S  \n",
       "872      0               695    5.0000  B51 B53 B55        S  \n",
       "873      0            345765    9.0000          NaN        S  \n",
       "874      0         P/PP 3381   24.0000          NaN        C  \n",
       "875      0              2667    7.2250          NaN        C  \n",
       "876      0              7534    9.8458          NaN        S  \n",
       "877      0            349212    7.8958          NaN        S  \n",
       "878      0            349217    7.8958          NaN        S  \n",
       "879      1             11767   83.1583          C50        C  \n",
       "880      1            230433   26.0000          NaN        S  \n",
       "881      0            349257    7.8958          NaN        S  \n",
       "882      0              7552   10.5167          NaN        S  \n",
       "883      0  C.A./SOTON 34068   10.5000          NaN        S  \n",
       "884      0   SOTON/OQ 392076    7.0500          NaN        S  \n",
       "885      5            382652   29.1250          NaN        Q  \n",
       "886      0            211536   13.0000          NaN        S  \n",
       "887      0            112053   30.0000          B42        S  \n",
       "888      2        W./C. 6607   23.4500          NaN        S  \n",
       "889      0            111369   30.0000         C148        C  \n",
       "890      0            370376    7.7500          NaN        Q  \n",
       "\n",
       "[891 rows x 12 columns]>"
      ]
     },
     "execution_count": 291,
     "metadata": {},
     "output_type": "execute_result"
    }
   ],
   "source": [
    "df.describe"
   ]
  },
  {
   "cell_type": "code",
   "execution_count": 292,
   "metadata": {
    "collapsed": false
   },
   "outputs": [],
   "source": [
    "#create a new dataframe and put only the variables I'm going to be using into it.\n",
    "X = pd.DataFrame()\n",
    "X['sex'] = df['Sex']\n",
    "X['age'] = df['Age']\n",
    "X['survived'] = df['Survived']\n",
    "X['Pclass'] = df['Pclass']\n",
    "X['Emb'] = df['Embarked']\n",
    "X['SibSp'] = df['SibSp']"
   ]
  },
  {
   "cell_type": "code",
   "execution_count": 293,
   "metadata": {
    "collapsed": false
   },
   "outputs": [
    {
     "data": {
      "text/plain": [
       "<bound method NDFrame.describe of         sex   age  survived  Pclass Emb  SibSp\n",
       "0      male  22.0         0       3   S      1\n",
       "1    female  38.0         1       1   C      1\n",
       "2    female  26.0         1       3   S      0\n",
       "3    female  35.0         1       1   S      1\n",
       "4      male  35.0         0       3   S      0\n",
       "5      male   NaN         0       3   Q      0\n",
       "6      male  54.0         0       1   S      0\n",
       "7      male   2.0         0       3   S      3\n",
       "8    female  27.0         1       3   S      0\n",
       "9    female  14.0         1       2   C      1\n",
       "10   female   4.0         1       3   S      1\n",
       "11   female  58.0         1       1   S      0\n",
       "12     male  20.0         0       3   S      0\n",
       "13     male  39.0         0       3   S      1\n",
       "14   female  14.0         0       3   S      0\n",
       "15   female  55.0         1       2   S      0\n",
       "16     male   2.0         0       3   Q      4\n",
       "17     male   NaN         1       2   S      0\n",
       "18   female  31.0         0       3   S      1\n",
       "19   female   NaN         1       3   C      0\n",
       "20     male  35.0         0       2   S      0\n",
       "21     male  34.0         1       2   S      0\n",
       "22   female  15.0         1       3   Q      0\n",
       "23     male  28.0         1       1   S      0\n",
       "24   female   8.0         0       3   S      3\n",
       "25   female  38.0         1       3   S      1\n",
       "26     male   NaN         0       3   C      0\n",
       "27     male  19.0         0       1   S      3\n",
       "28   female   NaN         1       3   Q      0\n",
       "29     male   NaN         0       3   S      0\n",
       "..      ...   ...       ...     ...  ..    ...\n",
       "861    male  21.0         0       2   S      1\n",
       "862  female  48.0         1       1   S      0\n",
       "863  female   NaN         0       3   S      8\n",
       "864    male  24.0         0       2   S      0\n",
       "865  female  42.0         1       2   S      0\n",
       "866  female  27.0         1       2   C      1\n",
       "867    male  31.0         0       1   S      0\n",
       "868    male   NaN         0       3   S      0\n",
       "869    male   4.0         1       3   S      1\n",
       "870    male  26.0         0       3   S      0\n",
       "871  female  47.0         1       1   S      1\n",
       "872    male  33.0         0       1   S      0\n",
       "873    male  47.0         0       3   S      0\n",
       "874  female  28.0         1       2   C      1\n",
       "875  female  15.0         1       3   C      0\n",
       "876    male  20.0         0       3   S      0\n",
       "877    male  19.0         0       3   S      0\n",
       "878    male   NaN         0       3   S      0\n",
       "879  female  56.0         1       1   C      0\n",
       "880  female  25.0         1       2   S      0\n",
       "881    male  33.0         0       3   S      0\n",
       "882  female  22.0         0       3   S      0\n",
       "883    male  28.0         0       2   S      0\n",
       "884    male  25.0         0       3   S      0\n",
       "885  female  39.0         0       3   Q      0\n",
       "886    male  27.0         0       2   S      0\n",
       "887  female  19.0         1       1   S      0\n",
       "888  female   NaN         0       3   S      1\n",
       "889    male  26.0         1       1   C      0\n",
       "890    male  32.0         0       3   Q      0\n",
       "\n",
       "[891 rows x 6 columns]>"
      ]
     },
     "execution_count": 293,
     "metadata": {},
     "output_type": "execute_result"
    }
   ],
   "source": [
    "X.describe"
   ]
  },
  {
   "cell_type": "code",
   "execution_count": 294,
   "metadata": {
    "collapsed": true
   },
   "outputs": [],
   "source": [
    "#drop missing values\n",
    "X = X.dropna(axis=0)"
   ]
  },
  {
   "cell_type": "code",
   "execution_count": 295,
   "metadata": {
    "collapsed": false
   },
   "outputs": [
    {
     "data": {
      "text/plain": [
       "(712, 6)"
      ]
     },
     "execution_count": 295,
     "metadata": {},
     "output_type": "execute_result"
    }
   ],
   "source": [
    "X.shape"
   ]
  },
  {
   "cell_type": "code",
   "execution_count": 296,
   "metadata": {
    "collapsed": true
   },
   "outputs": [],
   "source": [
    "#survived will be my dependent variable, y. Assign it to y and remove it from X\n",
    "y = X['survived']\n",
    "X = X.drop(['survived'], axis=1)"
   ]
  },
  {
   "cell_type": "code",
   "execution_count": 297,
   "metadata": {
    "collapsed": false
   },
   "outputs": [
    {
     "data": {
      "text/plain": [
       "<bound method NDFrame.describe of         sex   age  Pclass Emb  SibSp\n",
       "0      male  22.0       3   S      1\n",
       "1    female  38.0       1   C      1\n",
       "2    female  26.0       3   S      0\n",
       "3    female  35.0       1   S      1\n",
       "4      male  35.0       3   S      0\n",
       "6      male  54.0       1   S      0\n",
       "7      male   2.0       3   S      3\n",
       "8    female  27.0       3   S      0\n",
       "9    female  14.0       2   C      1\n",
       "10   female   4.0       3   S      1\n",
       "11   female  58.0       1   S      0\n",
       "12     male  20.0       3   S      0\n",
       "13     male  39.0       3   S      1\n",
       "14   female  14.0       3   S      0\n",
       "15   female  55.0       2   S      0\n",
       "16     male   2.0       3   Q      4\n",
       "18   female  31.0       3   S      1\n",
       "20     male  35.0       2   S      0\n",
       "21     male  34.0       2   S      0\n",
       "22   female  15.0       3   Q      0\n",
       "23     male  28.0       1   S      0\n",
       "24   female   8.0       3   S      3\n",
       "25   female  38.0       3   S      1\n",
       "27     male  19.0       1   S      3\n",
       "30     male  40.0       1   C      0\n",
       "33     male  66.0       2   S      0\n",
       "34     male  28.0       1   C      1\n",
       "35     male  42.0       1   S      1\n",
       "37     male  21.0       3   S      0\n",
       "38   female  18.0       3   S      2\n",
       "..      ...   ...     ...  ..    ...\n",
       "856  female  45.0       1   S      1\n",
       "857    male  51.0       1   S      0\n",
       "858  female  24.0       3   C      0\n",
       "860    male  41.0       3   S      2\n",
       "861    male  21.0       2   S      1\n",
       "862  female  48.0       1   S      0\n",
       "864    male  24.0       2   S      0\n",
       "865  female  42.0       2   S      0\n",
       "866  female  27.0       2   C      1\n",
       "867    male  31.0       1   S      0\n",
       "869    male   4.0       3   S      1\n",
       "870    male  26.0       3   S      0\n",
       "871  female  47.0       1   S      1\n",
       "872    male  33.0       1   S      0\n",
       "873    male  47.0       3   S      0\n",
       "874  female  28.0       2   C      1\n",
       "875  female  15.0       3   C      0\n",
       "876    male  20.0       3   S      0\n",
       "877    male  19.0       3   S      0\n",
       "879  female  56.0       1   C      0\n",
       "880  female  25.0       2   S      0\n",
       "881    male  33.0       3   S      0\n",
       "882  female  22.0       3   S      0\n",
       "883    male  28.0       2   S      0\n",
       "884    male  25.0       3   S      0\n",
       "885  female  39.0       3   Q      0\n",
       "886    male  27.0       2   S      0\n",
       "887  female  19.0       1   S      0\n",
       "889    male  26.0       1   C      0\n",
       "890    male  32.0       3   Q      0\n",
       "\n",
       "[712 rows x 5 columns]>"
      ]
     },
     "execution_count": 297,
     "metadata": {},
     "output_type": "execute_result"
    }
   ],
   "source": [
    "X.describe"
   ]
  },
  {
   "cell_type": "code",
   "execution_count": 298,
   "metadata": {
    "collapsed": false
   },
   "outputs": [
    {
     "data": {
      "text/html": [
       "<div>\n",
       "<table border=\"1\" class=\"dataframe\">\n",
       "  <thead>\n",
       "    <tr style=\"text-align: right;\">\n",
       "      <th></th>\n",
       "      <th>female</th>\n",
       "      <th>male</th>\n",
       "    </tr>\n",
       "  </thead>\n",
       "  <tbody>\n",
       "    <tr>\n",
       "      <th>0</th>\n",
       "      <td>0</td>\n",
       "      <td>1</td>\n",
       "    </tr>\n",
       "    <tr>\n",
       "      <th>1</th>\n",
       "      <td>1</td>\n",
       "      <td>0</td>\n",
       "    </tr>\n",
       "    <tr>\n",
       "      <th>2</th>\n",
       "      <td>1</td>\n",
       "      <td>0</td>\n",
       "    </tr>\n",
       "    <tr>\n",
       "      <th>3</th>\n",
       "      <td>1</td>\n",
       "      <td>0</td>\n",
       "    </tr>\n",
       "    <tr>\n",
       "      <th>4</th>\n",
       "      <td>0</td>\n",
       "      <td>1</td>\n",
       "    </tr>\n",
       "    <tr>\n",
       "      <th>6</th>\n",
       "      <td>0</td>\n",
       "      <td>1</td>\n",
       "    </tr>\n",
       "    <tr>\n",
       "      <th>7</th>\n",
       "      <td>0</td>\n",
       "      <td>1</td>\n",
       "    </tr>\n",
       "    <tr>\n",
       "      <th>8</th>\n",
       "      <td>1</td>\n",
       "      <td>0</td>\n",
       "    </tr>\n",
       "    <tr>\n",
       "      <th>9</th>\n",
       "      <td>1</td>\n",
       "      <td>0</td>\n",
       "    </tr>\n",
       "    <tr>\n",
       "      <th>10</th>\n",
       "      <td>1</td>\n",
       "      <td>0</td>\n",
       "    </tr>\n",
       "    <tr>\n",
       "      <th>11</th>\n",
       "      <td>1</td>\n",
       "      <td>0</td>\n",
       "    </tr>\n",
       "    <tr>\n",
       "      <th>12</th>\n",
       "      <td>0</td>\n",
       "      <td>1</td>\n",
       "    </tr>\n",
       "    <tr>\n",
       "      <th>13</th>\n",
       "      <td>0</td>\n",
       "      <td>1</td>\n",
       "    </tr>\n",
       "    <tr>\n",
       "      <th>14</th>\n",
       "      <td>1</td>\n",
       "      <td>0</td>\n",
       "    </tr>\n",
       "    <tr>\n",
       "      <th>15</th>\n",
       "      <td>1</td>\n",
       "      <td>0</td>\n",
       "    </tr>\n",
       "    <tr>\n",
       "      <th>16</th>\n",
       "      <td>0</td>\n",
       "      <td>1</td>\n",
       "    </tr>\n",
       "    <tr>\n",
       "      <th>18</th>\n",
       "      <td>1</td>\n",
       "      <td>0</td>\n",
       "    </tr>\n",
       "    <tr>\n",
       "      <th>20</th>\n",
       "      <td>0</td>\n",
       "      <td>1</td>\n",
       "    </tr>\n",
       "    <tr>\n",
       "      <th>21</th>\n",
       "      <td>0</td>\n",
       "      <td>1</td>\n",
       "    </tr>\n",
       "    <tr>\n",
       "      <th>22</th>\n",
       "      <td>1</td>\n",
       "      <td>0</td>\n",
       "    </tr>\n",
       "    <tr>\n",
       "      <th>23</th>\n",
       "      <td>0</td>\n",
       "      <td>1</td>\n",
       "    </tr>\n",
       "    <tr>\n",
       "      <th>24</th>\n",
       "      <td>1</td>\n",
       "      <td>0</td>\n",
       "    </tr>\n",
       "    <tr>\n",
       "      <th>25</th>\n",
       "      <td>1</td>\n",
       "      <td>0</td>\n",
       "    </tr>\n",
       "    <tr>\n",
       "      <th>27</th>\n",
       "      <td>0</td>\n",
       "      <td>1</td>\n",
       "    </tr>\n",
       "    <tr>\n",
       "      <th>30</th>\n",
       "      <td>0</td>\n",
       "      <td>1</td>\n",
       "    </tr>\n",
       "    <tr>\n",
       "      <th>33</th>\n",
       "      <td>0</td>\n",
       "      <td>1</td>\n",
       "    </tr>\n",
       "    <tr>\n",
       "      <th>34</th>\n",
       "      <td>0</td>\n",
       "      <td>1</td>\n",
       "    </tr>\n",
       "    <tr>\n",
       "      <th>35</th>\n",
       "      <td>0</td>\n",
       "      <td>1</td>\n",
       "    </tr>\n",
       "    <tr>\n",
       "      <th>37</th>\n",
       "      <td>0</td>\n",
       "      <td>1</td>\n",
       "    </tr>\n",
       "    <tr>\n",
       "      <th>38</th>\n",
       "      <td>1</td>\n",
       "      <td>0</td>\n",
       "    </tr>\n",
       "    <tr>\n",
       "      <th>...</th>\n",
       "      <td>...</td>\n",
       "      <td>...</td>\n",
       "    </tr>\n",
       "    <tr>\n",
       "      <th>856</th>\n",
       "      <td>1</td>\n",
       "      <td>0</td>\n",
       "    </tr>\n",
       "    <tr>\n",
       "      <th>857</th>\n",
       "      <td>0</td>\n",
       "      <td>1</td>\n",
       "    </tr>\n",
       "    <tr>\n",
       "      <th>858</th>\n",
       "      <td>1</td>\n",
       "      <td>0</td>\n",
       "    </tr>\n",
       "    <tr>\n",
       "      <th>860</th>\n",
       "      <td>0</td>\n",
       "      <td>1</td>\n",
       "    </tr>\n",
       "    <tr>\n",
       "      <th>861</th>\n",
       "      <td>0</td>\n",
       "      <td>1</td>\n",
       "    </tr>\n",
       "    <tr>\n",
       "      <th>862</th>\n",
       "      <td>1</td>\n",
       "      <td>0</td>\n",
       "    </tr>\n",
       "    <tr>\n",
       "      <th>864</th>\n",
       "      <td>0</td>\n",
       "      <td>1</td>\n",
       "    </tr>\n",
       "    <tr>\n",
       "      <th>865</th>\n",
       "      <td>1</td>\n",
       "      <td>0</td>\n",
       "    </tr>\n",
       "    <tr>\n",
       "      <th>866</th>\n",
       "      <td>1</td>\n",
       "      <td>0</td>\n",
       "    </tr>\n",
       "    <tr>\n",
       "      <th>867</th>\n",
       "      <td>0</td>\n",
       "      <td>1</td>\n",
       "    </tr>\n",
       "    <tr>\n",
       "      <th>869</th>\n",
       "      <td>0</td>\n",
       "      <td>1</td>\n",
       "    </tr>\n",
       "    <tr>\n",
       "      <th>870</th>\n",
       "      <td>0</td>\n",
       "      <td>1</td>\n",
       "    </tr>\n",
       "    <tr>\n",
       "      <th>871</th>\n",
       "      <td>1</td>\n",
       "      <td>0</td>\n",
       "    </tr>\n",
       "    <tr>\n",
       "      <th>872</th>\n",
       "      <td>0</td>\n",
       "      <td>1</td>\n",
       "    </tr>\n",
       "    <tr>\n",
       "      <th>873</th>\n",
       "      <td>0</td>\n",
       "      <td>1</td>\n",
       "    </tr>\n",
       "    <tr>\n",
       "      <th>874</th>\n",
       "      <td>1</td>\n",
       "      <td>0</td>\n",
       "    </tr>\n",
       "    <tr>\n",
       "      <th>875</th>\n",
       "      <td>1</td>\n",
       "      <td>0</td>\n",
       "    </tr>\n",
       "    <tr>\n",
       "      <th>876</th>\n",
       "      <td>0</td>\n",
       "      <td>1</td>\n",
       "    </tr>\n",
       "    <tr>\n",
       "      <th>877</th>\n",
       "      <td>0</td>\n",
       "      <td>1</td>\n",
       "    </tr>\n",
       "    <tr>\n",
       "      <th>879</th>\n",
       "      <td>1</td>\n",
       "      <td>0</td>\n",
       "    </tr>\n",
       "    <tr>\n",
       "      <th>880</th>\n",
       "      <td>1</td>\n",
       "      <td>0</td>\n",
       "    </tr>\n",
       "    <tr>\n",
       "      <th>881</th>\n",
       "      <td>0</td>\n",
       "      <td>1</td>\n",
       "    </tr>\n",
       "    <tr>\n",
       "      <th>882</th>\n",
       "      <td>1</td>\n",
       "      <td>0</td>\n",
       "    </tr>\n",
       "    <tr>\n",
       "      <th>883</th>\n",
       "      <td>0</td>\n",
       "      <td>1</td>\n",
       "    </tr>\n",
       "    <tr>\n",
       "      <th>884</th>\n",
       "      <td>0</td>\n",
       "      <td>1</td>\n",
       "    </tr>\n",
       "    <tr>\n",
       "      <th>885</th>\n",
       "      <td>1</td>\n",
       "      <td>0</td>\n",
       "    </tr>\n",
       "    <tr>\n",
       "      <th>886</th>\n",
       "      <td>0</td>\n",
       "      <td>1</td>\n",
       "    </tr>\n",
       "    <tr>\n",
       "      <th>887</th>\n",
       "      <td>1</td>\n",
       "      <td>0</td>\n",
       "    </tr>\n",
       "    <tr>\n",
       "      <th>889</th>\n",
       "      <td>0</td>\n",
       "      <td>1</td>\n",
       "    </tr>\n",
       "    <tr>\n",
       "      <th>890</th>\n",
       "      <td>0</td>\n",
       "      <td>1</td>\n",
       "    </tr>\n",
       "  </tbody>\n",
       "</table>\n",
       "<p>712 rows × 2 columns</p>\n",
       "</div>"
      ],
      "text/plain": [
       "     female  male\n",
       "0         0     1\n",
       "1         1     0\n",
       "2         1     0\n",
       "3         1     0\n",
       "4         0     1\n",
       "6         0     1\n",
       "7         0     1\n",
       "8         1     0\n",
       "9         1     0\n",
       "10        1     0\n",
       "11        1     0\n",
       "12        0     1\n",
       "13        0     1\n",
       "14        1     0\n",
       "15        1     0\n",
       "16        0     1\n",
       "18        1     0\n",
       "20        0     1\n",
       "21        0     1\n",
       "22        1     0\n",
       "23        0     1\n",
       "24        1     0\n",
       "25        1     0\n",
       "27        0     1\n",
       "30        0     1\n",
       "33        0     1\n",
       "34        0     1\n",
       "35        0     1\n",
       "37        0     1\n",
       "38        1     0\n",
       "..      ...   ...\n",
       "856       1     0\n",
       "857       0     1\n",
       "858       1     0\n",
       "860       0     1\n",
       "861       0     1\n",
       "862       1     0\n",
       "864       0     1\n",
       "865       1     0\n",
       "866       1     0\n",
       "867       0     1\n",
       "869       0     1\n",
       "870       0     1\n",
       "871       1     0\n",
       "872       0     1\n",
       "873       0     1\n",
       "874       1     0\n",
       "875       1     0\n",
       "876       0     1\n",
       "877       0     1\n",
       "879       1     0\n",
       "880       1     0\n",
       "881       0     1\n",
       "882       1     0\n",
       "883       0     1\n",
       "884       0     1\n",
       "885       1     0\n",
       "886       0     1\n",
       "887       1     0\n",
       "889       0     1\n",
       "890       0     1\n",
       "\n",
       "[712 rows x 2 columns]"
      ]
     },
     "execution_count": 298,
     "metadata": {},
     "output_type": "execute_result"
    }
   ],
   "source": [
    "# We need to handle Sex such that it's categorical, for logistic regression.\n",
    "#Use pandas get_dummies to implement one hot encoding for \"Sex\"\n",
    "pd.get_dummies(X.sex)"
   ]
  },
  {
   "cell_type": "code",
   "execution_count": 299,
   "metadata": {
    "collapsed": false
   },
   "outputs": [],
   "source": [
    "#Here, since I only have two variables it's easy, I'll just take one, and reassign it to sex\n",
    "#so now Sex becomes female = 1, male = 0\n",
    "X['sex'] = pd.get_dummies(X.sex)['female']"
   ]
  },
  {
   "cell_type": "code",
   "execution_count": 300,
   "metadata": {
    "collapsed": false
   },
   "outputs": [
    {
     "data": {
      "text/plain": [
       "<bound method NDFrame.describe of      sex   age  Pclass Emb  SibSp\n",
       "0      0  22.0       3   S      1\n",
       "1      1  38.0       1   C      1\n",
       "2      1  26.0       3   S      0\n",
       "3      1  35.0       1   S      1\n",
       "4      0  35.0       3   S      0\n",
       "6      0  54.0       1   S      0\n",
       "7      0   2.0       3   S      3\n",
       "8      1  27.0       3   S      0\n",
       "9      1  14.0       2   C      1\n",
       "10     1   4.0       3   S      1\n",
       "11     1  58.0       1   S      0\n",
       "12     0  20.0       3   S      0\n",
       "13     0  39.0       3   S      1\n",
       "14     1  14.0       3   S      0\n",
       "15     1  55.0       2   S      0\n",
       "16     0   2.0       3   Q      4\n",
       "18     1  31.0       3   S      1\n",
       "20     0  35.0       2   S      0\n",
       "21     0  34.0       2   S      0\n",
       "22     1  15.0       3   Q      0\n",
       "23     0  28.0       1   S      0\n",
       "24     1   8.0       3   S      3\n",
       "25     1  38.0       3   S      1\n",
       "27     0  19.0       1   S      3\n",
       "30     0  40.0       1   C      0\n",
       "33     0  66.0       2   S      0\n",
       "34     0  28.0       1   C      1\n",
       "35     0  42.0       1   S      1\n",
       "37     0  21.0       3   S      0\n",
       "38     1  18.0       3   S      2\n",
       "..   ...   ...     ...  ..    ...\n",
       "856    1  45.0       1   S      1\n",
       "857    0  51.0       1   S      0\n",
       "858    1  24.0       3   C      0\n",
       "860    0  41.0       3   S      2\n",
       "861    0  21.0       2   S      1\n",
       "862    1  48.0       1   S      0\n",
       "864    0  24.0       2   S      0\n",
       "865    1  42.0       2   S      0\n",
       "866    1  27.0       2   C      1\n",
       "867    0  31.0       1   S      0\n",
       "869    0   4.0       3   S      1\n",
       "870    0  26.0       3   S      0\n",
       "871    1  47.0       1   S      1\n",
       "872    0  33.0       1   S      0\n",
       "873    0  47.0       3   S      0\n",
       "874    1  28.0       2   C      1\n",
       "875    1  15.0       3   C      0\n",
       "876    0  20.0       3   S      0\n",
       "877    0  19.0       3   S      0\n",
       "879    1  56.0       1   C      0\n",
       "880    1  25.0       2   S      0\n",
       "881    0  33.0       3   S      0\n",
       "882    1  22.0       3   S      0\n",
       "883    0  28.0       2   S      0\n",
       "884    0  25.0       3   S      0\n",
       "885    1  39.0       3   Q      0\n",
       "886    0  27.0       2   S      0\n",
       "887    1  19.0       1   S      0\n",
       "889    0  26.0       1   C      0\n",
       "890    0  32.0       3   Q      0\n",
       "\n",
       "[712 rows x 5 columns]>"
      ]
     },
     "execution_count": 300,
     "metadata": {},
     "output_type": "execute_result"
    }
   ],
   "source": [
    "X.describe"
   ]
  },
  {
   "cell_type": "code",
   "execution_count": 301,
   "metadata": {
    "collapsed": false
   },
   "outputs": [],
   "source": [
    "X['EmbS']=pd.get_dummies(X.Emb)['S'] \n",
    "X['EmbC']=pd.get_dummies(X.Emb)['C']"
   ]
  },
  {
   "cell_type": "code",
   "execution_count": 302,
   "metadata": {
    "collapsed": false
   },
   "outputs": [
    {
     "data": {
      "text/plain": [
       "<bound method NDFrame.describe of      sex   age  Pclass Emb  SibSp  EmbS  EmbC\n",
       "0      0  22.0       3   S      1     1     0\n",
       "1      1  38.0       1   C      1     0     1\n",
       "2      1  26.0       3   S      0     1     0\n",
       "3      1  35.0       1   S      1     1     0\n",
       "4      0  35.0       3   S      0     1     0\n",
       "6      0  54.0       1   S      0     1     0\n",
       "7      0   2.0       3   S      3     1     0\n",
       "8      1  27.0       3   S      0     1     0\n",
       "9      1  14.0       2   C      1     0     1\n",
       "10     1   4.0       3   S      1     1     0\n",
       "11     1  58.0       1   S      0     1     0\n",
       "12     0  20.0       3   S      0     1     0\n",
       "13     0  39.0       3   S      1     1     0\n",
       "14     1  14.0       3   S      0     1     0\n",
       "15     1  55.0       2   S      0     1     0\n",
       "16     0   2.0       3   Q      4     0     0\n",
       "18     1  31.0       3   S      1     1     0\n",
       "20     0  35.0       2   S      0     1     0\n",
       "21     0  34.0       2   S      0     1     0\n",
       "22     1  15.0       3   Q      0     0     0\n",
       "23     0  28.0       1   S      0     1     0\n",
       "24     1   8.0       3   S      3     1     0\n",
       "25     1  38.0       3   S      1     1     0\n",
       "27     0  19.0       1   S      3     1     0\n",
       "30     0  40.0       1   C      0     0     1\n",
       "33     0  66.0       2   S      0     1     0\n",
       "34     0  28.0       1   C      1     0     1\n",
       "35     0  42.0       1   S      1     1     0\n",
       "37     0  21.0       3   S      0     1     0\n",
       "38     1  18.0       3   S      2     1     0\n",
       "..   ...   ...     ...  ..    ...   ...   ...\n",
       "856    1  45.0       1   S      1     1     0\n",
       "857    0  51.0       1   S      0     1     0\n",
       "858    1  24.0       3   C      0     0     1\n",
       "860    0  41.0       3   S      2     1     0\n",
       "861    0  21.0       2   S      1     1     0\n",
       "862    1  48.0       1   S      0     1     0\n",
       "864    0  24.0       2   S      0     1     0\n",
       "865    1  42.0       2   S      0     1     0\n",
       "866    1  27.0       2   C      1     0     1\n",
       "867    0  31.0       1   S      0     1     0\n",
       "869    0   4.0       3   S      1     1     0\n",
       "870    0  26.0       3   S      0     1     0\n",
       "871    1  47.0       1   S      1     1     0\n",
       "872    0  33.0       1   S      0     1     0\n",
       "873    0  47.0       3   S      0     1     0\n",
       "874    1  28.0       2   C      1     0     1\n",
       "875    1  15.0       3   C      0     0     1\n",
       "876    0  20.0       3   S      0     1     0\n",
       "877    0  19.0       3   S      0     1     0\n",
       "879    1  56.0       1   C      0     0     1\n",
       "880    1  25.0       2   S      0     1     0\n",
       "881    0  33.0       3   S      0     1     0\n",
       "882    1  22.0       3   S      0     1     0\n",
       "883    0  28.0       2   S      0     1     0\n",
       "884    0  25.0       3   S      0     1     0\n",
       "885    1  39.0       3   Q      0     0     0\n",
       "886    0  27.0       2   S      0     1     0\n",
       "887    1  19.0       1   S      0     1     0\n",
       "889    0  26.0       1   C      0     0     1\n",
       "890    0  32.0       3   Q      0     0     0\n",
       "\n",
       "[712 rows x 7 columns]>"
      ]
     },
     "execution_count": 302,
     "metadata": {},
     "output_type": "execute_result"
    }
   ],
   "source": [
    "X.describe"
   ]
  },
  {
   "cell_type": "code",
   "execution_count": 303,
   "metadata": {
    "collapsed": false
   },
   "outputs": [],
   "source": [
    "X = X.drop(['Emb'], axis=1)"
   ]
  },
  {
   "cell_type": "code",
   "execution_count": 304,
   "metadata": {
    "collapsed": false
   },
   "outputs": [
    {
     "data": {
      "text/plain": [
       "<bound method NDFrame.describe of      sex   age  Pclass  SibSp  EmbS  EmbC\n",
       "0      0  22.0       3      1     1     0\n",
       "1      1  38.0       1      1     0     1\n",
       "2      1  26.0       3      0     1     0\n",
       "3      1  35.0       1      1     1     0\n",
       "4      0  35.0       3      0     1     0\n",
       "6      0  54.0       1      0     1     0\n",
       "7      0   2.0       3      3     1     0\n",
       "8      1  27.0       3      0     1     0\n",
       "9      1  14.0       2      1     0     1\n",
       "10     1   4.0       3      1     1     0\n",
       "11     1  58.0       1      0     1     0\n",
       "12     0  20.0       3      0     1     0\n",
       "13     0  39.0       3      1     1     0\n",
       "14     1  14.0       3      0     1     0\n",
       "15     1  55.0       2      0     1     0\n",
       "16     0   2.0       3      4     0     0\n",
       "18     1  31.0       3      1     1     0\n",
       "20     0  35.0       2      0     1     0\n",
       "21     0  34.0       2      0     1     0\n",
       "22     1  15.0       3      0     0     0\n",
       "23     0  28.0       1      0     1     0\n",
       "24     1   8.0       3      3     1     0\n",
       "25     1  38.0       3      1     1     0\n",
       "27     0  19.0       1      3     1     0\n",
       "30     0  40.0       1      0     0     1\n",
       "33     0  66.0       2      0     1     0\n",
       "34     0  28.0       1      1     0     1\n",
       "35     0  42.0       1      1     1     0\n",
       "37     0  21.0       3      0     1     0\n",
       "38     1  18.0       3      2     1     0\n",
       "..   ...   ...     ...    ...   ...   ...\n",
       "856    1  45.0       1      1     1     0\n",
       "857    0  51.0       1      0     1     0\n",
       "858    1  24.0       3      0     0     1\n",
       "860    0  41.0       3      2     1     0\n",
       "861    0  21.0       2      1     1     0\n",
       "862    1  48.0       1      0     1     0\n",
       "864    0  24.0       2      0     1     0\n",
       "865    1  42.0       2      0     1     0\n",
       "866    1  27.0       2      1     0     1\n",
       "867    0  31.0       1      0     1     0\n",
       "869    0   4.0       3      1     1     0\n",
       "870    0  26.0       3      0     1     0\n",
       "871    1  47.0       1      1     1     0\n",
       "872    0  33.0       1      0     1     0\n",
       "873    0  47.0       3      0     1     0\n",
       "874    1  28.0       2      1     0     1\n",
       "875    1  15.0       3      0     0     1\n",
       "876    0  20.0       3      0     1     0\n",
       "877    0  19.0       3      0     1     0\n",
       "879    1  56.0       1      0     0     1\n",
       "880    1  25.0       2      0     1     0\n",
       "881    0  33.0       3      0     1     0\n",
       "882    1  22.0       3      0     1     0\n",
       "883    0  28.0       2      0     1     0\n",
       "884    0  25.0       3      0     1     0\n",
       "885    1  39.0       3      0     0     0\n",
       "886    0  27.0       2      0     1     0\n",
       "887    1  19.0       1      0     1     0\n",
       "889    0  26.0       1      0     0     1\n",
       "890    0  32.0       3      0     0     0\n",
       "\n",
       "[712 rows x 6 columns]>"
      ]
     },
     "execution_count": 304,
     "metadata": {},
     "output_type": "execute_result"
    }
   ],
   "source": [
    "X.describe"
   ]
  },
  {
   "cell_type": "code",
   "execution_count": 305,
   "metadata": {
    "collapsed": false
   },
   "outputs": [],
   "source": [
    "#remember to scale our features, as with linear regression\n",
    "from sklearn.cross_validation import train_test_split\n",
    "from sklearn.preprocessing import StandardScaler\n",
    "scaler = StandardScaler()\n",
    "X= scaler.fit_transform(X)"
   ]
  },
  {
   "cell_type": "code",
   "execution_count": 306,
   "metadata": {
    "collapsed": false
   },
   "outputs": [],
   "source": [
    "#build test and training sets\n",
    "X_train, X_test, y_train, y_test = train_test_split(X, y, test_size=0.2, random_state=42)"
   ]
  },
  {
   "cell_type": "markdown",
   "metadata": {},
   "source": [
    "### Model Creation\n",
    "At this point I have a test and train set defined.  I will use train to train my model and test to see how accurate the model is."
   ]
  },
  {
   "cell_type": "code",
   "execution_count": 307,
   "metadata": {
    "collapsed": false
   },
   "outputs": [],
   "source": [
    "from sklearn.linear_model import LogisticRegression\n",
    "model = LogisticRegression(penalty='l2', C=1)"
   ]
  },
  {
   "cell_type": "code",
   "execution_count": 308,
   "metadata": {
    "collapsed": false
   },
   "outputs": [
    {
     "data": {
      "text/plain": [
       "LogisticRegression(C=1, class_weight=None, dual=False, fit_intercept=True,\n",
       "          intercept_scaling=1, max_iter=100, multi_class='ovr', n_jobs=1,\n",
       "          penalty='l2', random_state=None, solver='liblinear', tol=0.0001,\n",
       "          verbose=0, warm_start=False)"
      ]
     },
     "execution_count": 308,
     "metadata": {},
     "output_type": "execute_result"
    }
   ],
   "source": [
    "model.fit(X_train, y_train)"
   ]
  },
  {
   "cell_type": "markdown",
   "metadata": {},
   "source": [
    "### Measuring Model Performance"
   ]
  },
  {
   "cell_type": "code",
   "execution_count": 309,
   "metadata": {
    "collapsed": false
   },
   "outputs": [
    {
     "name": "stdout",
     "output_type": "stream",
     "text": [
      "Logistic accuracy is 0.81\n"
     ]
    }
   ],
   "source": [
    "from sklearn.metrics import accuracy_score\n",
    "print(\"Logistic accuracy is %2.2f\" % accuracy_score(y_test,model.predict(X_test)))"
   ]
  },
  {
   "cell_type": "code",
   "execution_count": 310,
   "metadata": {
    "collapsed": true
   },
   "outputs": [],
   "source": [
    "from sklearn.metrics import roc_auc_score\n",
    "from sklearn.metrics import classification_report"
   ]
  },
  {
   "cell_type": "code",
   "execution_count": 311,
   "metadata": {
    "collapsed": false
   },
   "outputs": [
    {
     "name": "stdout",
     "output_type": "stream",
     "text": [
      "\n",
      "\n",
      "---Logistic Model---\n",
      "Logistic AUC = 0.80\n",
      "             precision    recall  f1-score   support\n",
      "\n",
      "          0       0.78      0.91      0.84        80\n",
      "          1       0.86      0.68      0.76        63\n",
      "\n",
      "avg / total       0.82      0.81      0.81       143\n",
      "\n"
     ]
    }
   ],
   "source": [
    "print(\"\\n\\n---Logistic Model---\")\n",
    "#logistic AUC\n",
    "logit_roc_auc = roc_auc_score(y_test, model.predict(X_test))\n",
    "print(\"Logistic AUC = %2.2f\" % logit_roc_auc)\n",
    "print(classification_report(y_test, model.predict(X_test) ))"
   ]
  },
  {
   "cell_type": "code",
   "execution_count": 312,
   "metadata": {
    "collapsed": true
   },
   "outputs": [],
   "source": [
    "from sklearn.metrics import roc_curve\n",
    "fpr, tpr, thresholds = roc_curve(y_test, model.predict_proba(X_test)[:,1])"
   ]
  },
  {
   "cell_type": "code",
   "execution_count": 313,
   "metadata": {
    "collapsed": false
   },
   "outputs": [
    {
     "data": {
      "image/png": "[encoded data removed]",
      "text/plain": [
       "<matplotlib.figure.Figure at 0x2ae565a3518>"
      ]
     },
     "metadata": {},
     "output_type": "display_data"
    }
   ],
   "source": [
    "# Plot of a ROC curve for a specific class\n",
    "plt.figure()\n",
    "plt.plot(fpr, tpr, label='ROC curve (area = %0.2f)' % logit_roc_auc)\n",
    "plt.plot([0, 1], [0, 1], 'k--')\n",
    "plt.xlim([0.0, 1.0])\n",
    "plt.ylim([0.0, 1.05])\n",
    "plt.xlabel('False Positive Rate')\n",
    "plt.ylabel('True Positive Rate')\n",
    "plt.title('Receiver operating characteristic example')\n",
    "plt.legend(loc=\"lower right\")\n",
    "plt.show()"
   ]
  },
  {
   "cell_type": "code",
   "execution_count": null,
   "metadata": {
    "collapsed": true
   },
   "outputs": [],
   "source": []
  }
 ],
 "metadata": {
  "anaconda-cloud": {},
  "kernelspec": {
   "display_name": "Python [conda root]",
   "language": "python",
   "name": "conda-root-py"
  },
  "language_info": {
   "codemirror_mode": {
    "name": "ipython",
    "version": 3
   },
   "file_extension": ".py",
   "mimetype": "text/x-python",
   "name": "python",
   "nbconvert_exporter": "python",
   "pygments_lexer": "ipython3",
   "version": "3.5.2"
  }
 },
 "nbformat": 4,
 "nbformat_minor": 1
}
